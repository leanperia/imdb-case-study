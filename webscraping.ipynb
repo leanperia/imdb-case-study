{
 "cells": [
  {
   "cell_type": "markdown",
   "metadata": {},
   "source": [
    "I tried to scrape revenue and budget data from Wikidata using their free API. However it turns out that wiki does not have enough non-null values of revenue and budget compared to the TMDB dataset"
   ]
  },
  {
   "cell_type": "code",
   "execution_count": null,
   "metadata": {},
   "outputs": [],
   "source": [
    "!conda install -c conda-forge sparqlwrapper"
   ]
  },
  {
   "cell_type": "code",
   "execution_count": null,
   "metadata": {},
   "outputs": [],
   "source": [
    "from SPARQLWrapper import SPARQLWrapper, JSON\n",
    "import csv\n",
    "import time\n",
    "\n",
    "def get_movies_query(offset):\n",
    "    return '''\n",
    "SELECT DISTINCT ?imdb ?title ?budget ?boxOffice\n",
    "WHERE {{\n",
    "    ?movie wdt:P31 wd:Q11424;\n",
    "           wdt:P345 ?imdb.\n",
    "    OPTIONAL {{ ?movie wdt:P2130 ?budget. }}\n",
    "    OPTIONAL {{ ?movie wdt:P2142 ?boxOffice. }}\n",
    "}}\n",
    "LIMIT 1000\n",
    "OFFSET {offset}\n",
    "'''.format(offset=offset)\n",
    "\n",
    "def fetch_data(offset=0):\n",
    "    sparql = SPARQLWrapper(\"https://query.wikidata.org/sparql\")\n",
    "    sparql.setQuery(get_movies_query(offset))\n",
    "    sparql.setReturnFormat(JSON)\n",
    "    try:\n",
    "        return sparql.query().convert()\n",
    "    except Exception as e:\n",
    "        print(f\"Error at offset {offset}: {e}\")\n",
    "        return None\n",
    "\n",
    "def save_batch(results, filename):\n",
    "    with open(filename, 'a', newline='', encoding='utf-8') as f:\n",
    "        writer = csv.writer(f)\n",
    "        for result in results[\"results\"][\"bindings\"]:\n",
    "            writer.writerow([\n",
    "                result.get(\"imdb\", {}).get(\"value\", \"\"),\n",
    "                result.get(\"title\", {}).get(\"value\", \"\"),\n",
    "                result.get(\"budget\", {}).get(\"value\", \"\"),\n",
    "                result.get(\"boxOffice\", {}).get(\"value\", \"\")\n",
    "            ])\n",
    "\n",
    "\n",
    "\n",
    "filename = 'wikidata_movies.csv'\n",
    "\n",
    "# Create file with headers\n",
    "with open(filename, 'w', newline='', encoding='utf-8') as f:\n",
    "    writer = csv.writer(f)\n",
    "    writer.writerow(['IMDB_ID', 'Title', 'Budget', 'Box_Office'])\n",
    "\n",
    "offset = 0\n",
    "while True:\n",
    "    print(f\"Fetching records at offset: {offset}\")\n",
    "    results = fetch_data(offset)\n",
    "    \n",
    "    if not results or len(results[\"results\"][\"bindings\"]) == 0:\n",
    "        break\n",
    "        \n",
    "    save_batch(results, filename)\n",
    "    offset += 1000\n",
    "    time.sleep(0.5)  # Rate limiting"
   ]
  },
  {
   "cell_type": "code",
   "execution_count": 14,
   "metadata": {},
   "outputs": [],
   "source": [
    "import pandas as pd\n",
    "x = pd.read_csv('wikidata_movies.csv')"
   ]
  },
  {
   "cell_type": "code",
   "execution_count": null,
   "metadata": {},
   "outputs": [
    {
     "name": "stdout",
     "output_type": "stream",
     "text": [
      "<class 'pandas.core.frame.DataFrame'>\n",
      "RangeIndex: 251816 entries, 0 to 251815\n",
      "Data columns (total 4 columns):\n",
      " #   Column      Non-Null Count   Dtype  \n",
      "---  ------      --------------   -----  \n",
      " 0   IMDB_ID     251816 non-null  object \n",
      " 1   Title       0 non-null       float64\n",
      " 2   Budget      6868 non-null    float64\n",
      " 3   Box_Office  6533 non-null    float64\n",
      "dtypes: float64(3), object(1)\n",
      "memory usage: 7.7+ MB\n"
     ]
    }
   ],
   "source": [
    "x.info()"
   ]
  },
  {
   "cell_type": "code",
   "execution_count": 18,
   "metadata": {},
   "outputs": [
    {
     "data": {
      "text/plain": [
       "(251816, 4)"
      ]
     },
     "execution_count": 18,
     "metadata": {},
     "output_type": "execute_result"
    }
   ],
   "source": [
    "x.shape"
   ]
  },
  {
   "cell_type": "code",
   "execution_count": 20,
   "metadata": {},
   "outputs": [
    {
     "data": {
      "text/plain": [
       "(6868, 4)"
      ]
     },
     "execution_count": 20,
     "metadata": {},
     "output_type": "execute_result"
    }
   ],
   "source": [
    "x[x.Budget.notnull()].shape"
   ]
  },
  {
   "cell_type": "code",
   "execution_count": 21,
   "metadata": {},
   "outputs": [
    {
     "data": {
      "text/plain": [
       "(6533, 4)"
      ]
     },
     "execution_count": 21,
     "metadata": {},
     "output_type": "execute_result"
    }
   ],
   "source": [
    "x[x.Box_Office.notnull()].shape"
   ]
  },
  {
   "cell_type": "code",
   "execution_count": 23,
   "metadata": {},
   "outputs": [
    {
     "data": {
      "text/plain": [
       "(4232, 4)"
      ]
     },
     "execution_count": 23,
     "metadata": {},
     "output_type": "execute_result"
    }
   ],
   "source": [
    "x[(x.Box_Office.notnull())&(x.Budget.notnull())].shape"
   ]
  },
  {
   "cell_type": "code",
   "execution_count": 22,
   "metadata": {},
   "outputs": [
    {
     "data": {
      "text/plain": [
       "(6868, 4)"
      ]
     },
     "execution_count": 22,
     "metadata": {},
     "output_type": "execute_result"
    }
   ],
   "source": [
    "x[x.Budget>0].shape"
   ]
  },
  {
   "cell_type": "code",
   "execution_count": 24,
   "metadata": {},
   "outputs": [
    {
     "data": {
      "text/html": [
       "<div>\n",
       "<style scoped>\n",
       "    .dataframe tbody tr th:only-of-type {\n",
       "        vertical-align: middle;\n",
       "    }\n",
       "\n",
       "    .dataframe tbody tr th {\n",
       "        vertical-align: top;\n",
       "    }\n",
       "\n",
       "    .dataframe thead th {\n",
       "        text-align: right;\n",
       "    }\n",
       "</style>\n",
       "<table border=\"1\" class=\"dataframe\">\n",
       "  <thead>\n",
       "    <tr style=\"text-align: right;\">\n",
       "      <th></th>\n",
       "      <th>Title</th>\n",
       "      <th>Budget</th>\n",
       "      <th>Box_Office</th>\n",
       "    </tr>\n",
       "  </thead>\n",
       "  <tbody>\n",
       "    <tr>\n",
       "      <th>count</th>\n",
       "      <td>0.0</td>\n",
       "      <td>6.868000e+03</td>\n",
       "      <td>6.533000e+03</td>\n",
       "    </tr>\n",
       "    <tr>\n",
       "      <th>mean</th>\n",
       "      <td>NaN</td>\n",
       "      <td>6.698640e+07</td>\n",
       "      <td>1.530795e+12</td>\n",
       "    </tr>\n",
       "    <tr>\n",
       "      <th>std</th>\n",
       "      <td>NaN</td>\n",
       "      <td>5.942218e+08</td>\n",
       "      <td>1.237211e+14</td>\n",
       "    </tr>\n",
       "    <tr>\n",
       "      <th>min</th>\n",
       "      <td>NaN</td>\n",
       "      <td>1.000000e+02</td>\n",
       "      <td>7.667000e+00</td>\n",
       "    </tr>\n",
       "    <tr>\n",
       "      <th>25%</th>\n",
       "      <td>NaN</td>\n",
       "      <td>1.207252e+06</td>\n",
       "      <td>1.960000e+06</td>\n",
       "    </tr>\n",
       "    <tr>\n",
       "      <th>50%</th>\n",
       "      <td>NaN</td>\n",
       "      <td>8.000000e+06</td>\n",
       "      <td>1.750000e+07</td>\n",
       "    </tr>\n",
       "    <tr>\n",
       "      <th>75%</th>\n",
       "      <td>NaN</td>\n",
       "      <td>4.000000e+07</td>\n",
       "      <td>1.011341e+08</td>\n",
       "    </tr>\n",
       "    <tr>\n",
       "      <th>max</th>\n",
       "      <td>NaN</td>\n",
       "      <td>2.400000e+10</td>\n",
       "      <td>1.000000e+16</td>\n",
       "    </tr>\n",
       "  </tbody>\n",
       "</table>\n",
       "</div>"
      ],
      "text/plain": [
       "       Title        Budget    Box_Office\n",
       "count    0.0  6.868000e+03  6.533000e+03\n",
       "mean     NaN  6.698640e+07  1.530795e+12\n",
       "std      NaN  5.942218e+08  1.237211e+14\n",
       "min      NaN  1.000000e+02  7.667000e+00\n",
       "25%      NaN  1.207252e+06  1.960000e+06\n",
       "50%      NaN  8.000000e+06  1.750000e+07\n",
       "75%      NaN  4.000000e+07  1.011341e+08\n",
       "max      NaN  2.400000e+10  1.000000e+16"
      ]
     },
     "execution_count": 24,
     "metadata": {},
     "output_type": "execute_result"
    }
   ],
   "source": [
    "x[(x.Box_Office.notnull())|(x.Budget.notnull())].describe()"
   ]
  },
  {
   "cell_type": "code",
   "execution_count": 26,
   "metadata": {},
   "outputs": [
    {
     "data": {
      "text/plain": [
       "<Axes: >"
      ]
     },
     "execution_count": 26,
     "metadata": {},
     "output_type": "execute_result"
    },
    {
     "data": {
      "image/png": "[encoded data removed]",
      "text/plain": [
       "<Figure size 640x480 with 1 Axes>"
      ]
     },
     "metadata": {},
     "output_type": "display_data"
    }
   ],
   "source": [
    "x[x.Budget>0].Budget.hist(bins=100)"
   ]
  },
  {
   "cell_type": "code",
   "execution_count": 27,
   "metadata": {},
   "outputs": [
    {
     "data": {
      "text/plain": [
       "<Axes: >"
      ]
     },
     "execution_count": 27,
     "metadata": {},
     "output_type": "execute_result"
    },
    {
     "data": {
      "image/png": "[encoded data removed]",
      "text/plain": [
       "<Figure size 640x480 with 1 Axes>"
      ]
     },
     "metadata": {},
     "output_type": "display_data"
    }
   ],
   "source": [
    "x[x.Box_Office>0].Box_Office.hist(bins=100)"
   ]
  },
  {
   "cell_type": "code",
   "execution_count": null,
   "metadata": {},
   "outputs": [],
   "source": []
  }
 ],
 "metadata": {
  "kernelspec": {
   "display_name": "ml",
   "language": "python",
   "name": "python3"
  },
  "language_info": {
   "codemirror_mode": {
    "name": "ipython",
    "version": 3
   },
   "file_extension": ".py",
   "mimetype": "text/x-python",
   "name": "python",
   "nbconvert_exporter": "python",
   "pygments_lexer": "ipython3",
   "version": "3.12.7"
  }
 },
 "nbformat": 4,
 "nbformat_minor": 2
}
